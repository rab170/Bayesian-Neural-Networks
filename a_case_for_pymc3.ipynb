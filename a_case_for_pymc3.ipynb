{
 "cells": [
  {
   "cell_type": "code",
   "execution_count": 20,
   "metadata": {},
   "outputs": [],
   "source": [
    "import cv2\n",
    "import os\n",
    "import glob\n",
    "import argparse\n",
    "import pymc3 as pm\n",
    "import numpy as np\n",
    "from keras.utils import np_utils\n",
    "from sklearn.preprocessing import LabelEncoder\n",
    "from sklearn.cross_validation import train_test_split\n",
    "\n",
    "import theano \n",
    "import theano.tensor as T"
   ]
  },
  {
   "cell_type": "code",
   "execution_count": 21,
   "metadata": {
    "collapsed": true
   },
   "outputs": [],
   "source": [
    "def image_to_feature_vector(image, size=(12, 12)): return cv2.resize(image, size).flatten()"
   ]
  },
  {
   "cell_type": "code",
   "execution_count": 22,
   "metadata": {},
   "outputs": [],
   "source": [
    "cats = map(image_to_feature_vector, [cv2.imread(cat,cv2.CV_LOAD_IMAGE_GRAYSCALE) for cat in glob.glob('data/cats/*')])\n",
    "dogs = map(image_to_feature_vector, [cv2.imread(dog,cv2.CV_LOAD_IMAGE_GRAYSCALE) for dog in glob.glob('data/dogs/*')])\n",
    "\n",
    "data = np.vstack((cats,dogs))\n",
    "labels = np.array([1]*len(cats) + [0]*len(dogs))\n",
    "data = np.array(data) / 255.0"
   ]
  },
  {
   "cell_type": "code",
   "execution_count": 23,
   "metadata": {
    "collapsed": true
   },
   "outputs": [],
   "source": [
    "X_train, X_test, Y_train, Y_test = train_test_split(data, labels, test_size=.5)\n",
    "ann_input = theano.shared(data)\n",
    "ann_output = theano.shared(labels)\n",
    "\n",
    "\"\"\"\n",
    "init_1 = np.random.randn(data.shape[1], 768)\n",
    "init_2 = np.random.randn(768, 384)\n",
    "init_out = np.random.randn(384)\n",
    "\"\"\"\n",
    "init_1 = np.random.randn(data.shape[1], 5)\n",
    "init_2 = np.random.randn(5, 5)\n",
    "init_out = np.random.randn(5)"
   ]
  },
  {
   "cell_type": "code",
   "execution_count": 24,
   "metadata": {},
   "outputs": [],
   "source": [
    "with pm.Model() as neural_network:\n",
    "    # Weights from input to hidden layer\n",
    "    W_in_1 = pm.Normal('w_in_1', 0, sd=1, \n",
    "                             shape=(data.shape[1], 5), # 768\n",
    "                             testval=init_1)\n",
    "    \n",
    "    # Weights from 1st to 2nd layer\n",
    "    W_1_2 = pm.Normal('w_1_2', 0, sd=1, \n",
    "                            shape=(5, 5), #shape=(768, 384), \n",
    "                            testval=init_2)\n",
    "    \n",
    "    # Weights from hidden lay2er to output\n",
    "    W_2_out = pm.Normal('w_2_out', 0, sd=1, shape=(5,), testval=init_out) #shape=(384,)\n",
    "    \n",
    "    # Build neural-network using tanh activation function\n",
    "    act_1 = T.nnet.relu(T.dot(ann_input, W_in_1))\n",
    "    act_2 = T.nnet.relu(T.dot(act_1, W_1_2))\n",
    "    act_out = T.nnet.sigmoid(T.dot(act_2, W_2_out))\n",
    "    \n",
    "    # Binary classification -> Bernoulli likelihood\n",
    "    out = pm.Bernoulli('out', act_out, observed=ann_output)\n"
   ]
  },
  {
   "cell_type": "code",
   "execution_count": 25,
   "metadata": {},
   "outputs": [
    {
     "name": "stdout",
     "output_type": "stream",
     "text": [
      "<pymc3.model.Model object at 0x11d1b7bd0>\n"
     ]
    }
   ],
   "source": [
    "print(neural_network)"
   ]
  },
  {
   "cell_type": "code",
   "execution_count": 26,
   "metadata": {},
   "outputs": [
    {
     "name": "stderr",
     "output_type": "stream",
     "text": [
      "\n",
      "  0%|          | 0/1000 [00:00<?, ?it/s]\u001b[A\n",
      "  9%|▊         | 86/1000 [00:00<00:01, 853.53it/s]\u001b[A\n",
      "Average ELBO = -2,469.2:  17%|█▋        | 172/1000 [00:00<00:00, 853.69it/s]\u001b[A\n",
      "Average ELBO = -2,271:  27%|██▋       | 271/1000 [00:00<00:00, 890.13it/s]  \u001b[A\n",
      "Average ELBO = -2,042:  36%|███▌      | 355/1000 [00:00<00:00, 871.48it/s]\u001b[A\n",
      "Average ELBO = -1,737.7:  45%|████▌     | 452/1000 [00:00<00:00, 898.03it/s]\u001b[A\n",
      "Average ELBO = -1,363.7:  56%|█████▌    | 559/1000 [00:00<00:00, 942.51it/s]\u001b[A\n",
      "Average ELBO = -1,280.7:  67%|██████▋   | 671/1000 [00:00<00:00, 989.02it/s]\u001b[A\n",
      "Average ELBO = -1,224:  77%|███████▋  | 769/1000 [00:00<00:00, 983.85it/s]  \u001b[A\n",
      "Average ELBO = -1,024.6:  88%|████████▊ | 883/1000 [00:00<00:00, 1024.77it/s]\u001b[A\n",
      "Average ELBO = -1,194.3: 100%|██████████| 1000/1000 [00:01<00:00, 995.18it/s]\u001b[AFinished [100%]: Average ELBO = -942.96\n"
     ]
    },
    {
     "data": {
      "text/plain": [
       "'\\nmap_estimate = find_MAP(model=neural_network)\\n\\nprint(map_estimate)\\n\\n\\nwith neural_network:\\n    # obtain starting values via MAP\\n    start = find_MAP(fmin=optimize.fmin_powell)\\n\\n    # instantiate sampler\\n    step = Slice(vars=[sigma])\\n\\n    # draw 5000 posterior samples\\n    trace = sample(5000, step=step, start=start)\\n\\n'"
      ]
     },
     "execution_count": 26,
     "metadata": {},
     "output_type": "execute_result"
    }
   ],
   "source": [
    "from pymc3 import NUTS, sample,find_MAP,Slice,traceplot\n",
    "from scipy import optimize\n",
    "\n",
    "\n",
    "with neural_network:\n",
    "    # Run ADVI which returns posterior means, standard deviations, and the evidence lower bound (ELBO)\n",
    "    v_params = pm.variational.advi(n=1000)\n",
    "\n",
    "\"\"\"\n",
    "map_estimate = find_MAP(model=neural_network)\n",
    "\n",
    "print(map_estimate)\n",
    "\n",
    "\n",
    "with neural_network:\n",
    "    # obtain starting values via MAP\n",
    "    start = find_MAP(fmin=optimize.fmin_powell)\n",
    "\n",
    "    # instantiate sampler\n",
    "    step = Slice(vars=[sigma])\n",
    "\n",
    "    # draw 5000 posterior samples\n",
    "    trace = sample(5000, step=step, start=start)\n",
    "\n",
    "\"\"\""
   ]
  },
  {
   "cell_type": "code",
   "execution_count": 27,
   "metadata": {},
   "outputs": [
    {
     "name": "stderr",
     "output_type": "stream",
     "text": [
      "\n",
      "  0%|          | 0/5001 [00:00<?, ?it/s]\u001b[A\n",
      " 13%|█▎        | 674/5001 [00:00<00:00, 6735.62it/s]\u001b[A\n",
      " 27%|██▋       | 1327/5001 [00:00<00:00, 6671.09it/s]\u001b[A\n",
      "\n",
      " 38%|███▊      | 1897/5001 [00:00<00:00, 6346.10it/s]\u001b[A\n",
      " 49%|████▉     | 2461/5001 [00:00<00:00, 6114.29it/s]\u001b[A\n",
      " 60%|█████▉    | 2982/5001 [00:00<00:00, 5810.60it/s]\u001b[A\n",
      " 71%|███████▏  | 3564/5001 [00:00<00:00, 5811.64it/s]\u001b[A\n",
      " 82%|████████▏ | 4088/5001 [00:00<00:00, 5626.33it/s]\u001b[A\n",
      " 93%|█████████▎| 4637/5001 [00:00<00:00, 5583.53it/s]\u001b[A\n",
      "100%|██████████| 5001/5001 [00:00<00:00, 5759.57it/s]\u001b[A"
     ]
    }
   ],
   "source": [
    "with neural_network:\n",
    "    trace = pm.variational.sample_vp(v_params, draws=5001)"
   ]
  },
  {
   "cell_type": "code",
   "execution_count": 28,
   "metadata": {},
   "outputs": [
    {
     "name": "stderr",
     "output_type": "stream",
     "text": [
      "100%|██████████| 500/500 [00:03<00:00, 152.28it/s]\n"
     ]
    }
   ],
   "source": [
    "# Replace shared variables with testing set\n",
    "ann_input.set_value(X_test)\n",
    "ann_output.set_value(Y_test)\n",
    "\n",
    "# Creater posterior predictive samples\n",
    "ppc = pm.sample_ppc(trace, model=neural_network, samples=500)\n",
    "\n",
    "# Use probability of > 0.5 to assume prediction of class 1\n",
    "pred = ppc['out'].mean(axis=0) > 0.5"
   ]
  },
  {
   "cell_type": "code",
   "execution_count": 29,
   "metadata": {},
   "outputs": [
    {
     "name": "stdout",
     "output_type": "stream",
     "text": [
      "Accuracy = 50.0%\n"
     ]
    }
   ],
   "source": [
    "print('Accuracy = {}%'.format((Y_test == pred).mean() * 100))"
   ]
  }
 ],
 "metadata": {
  "kernelspec": {
   "display_name": "Python 2",
   "language": "python",
   "name": "python2"
  },
  "language_info": {
   "codemirror_mode": {
    "name": "ipython",
    "version": 2
   },
   "file_extension": ".py",
   "mimetype": "text/x-python",
   "name": "python",
   "nbconvert_exporter": "python",
   "pygments_lexer": "ipython2",
   "version": "2.7.10"
  }
 },
 "nbformat": 4,
 "nbformat_minor": 2
}
