{
 "cells": [
  {
   "cell_type": "code",
   "execution_count": 1,
   "metadata": {
    "collapsed": false,
    "deletable": true,
    "editable": true
   },
   "outputs": [
    {
     "name": "stderr",
     "output_type": "stream",
     "text": [
      "Using TensorFlow backend.\n"
     ]
    }
   ],
   "source": [
    "import cv2\n",
    "import os\n",
    "import glob\n",
    "import argparse\n",
    "import pymc3 as pm\n",
    "import numpy as np\n",
    "from keras.utils import np_utils\n",
    "from sklearn.preprocessing import LabelEncoder\n",
    "from sklearn.cross_validation import train_test_split\n",
    "\n",
    "import theano \n",
    "import theano.tensor as T"
   ]
  },
  {
   "cell_type": "code",
   "execution_count": 2,
   "metadata": {
    "collapsed": true,
    "deletable": true,
    "editable": true
   },
   "outputs": [],
   "source": [
    "def image_to_feature_vector(image, size=(32, 32)): return cv2.resize(image, size).flatten()"
   ]
  },
  {
   "cell_type": "code",
   "execution_count": 3,
   "metadata": {
    "collapsed": false,
    "deletable": true,
    "editable": true
   },
   "outputs": [],
   "source": [
    "cats = map(image_to_feature_vector, [cv2.imread(cat) for cat in glob.glob('data/cats/*')])\n",
    "dogs = map(image_to_feature_vector, [cv2.imread(dog) for dog in glob.glob('data/dogs/*')])\n",
    "\n",
    "data = np.vstack((cats,dogs))\n",
    "labels = np.array([1]*len(cats) + [0]*len(dogs))\n",
    "data = np.array(data) / 255.0"
   ]
  },
  {
   "cell_type": "code",
   "execution_count": 4,
   "metadata": {
    "collapsed": false,
    "deletable": true,
    "editable": true
   },
   "outputs": [],
   "source": [
    "X_train, X_test, Y_train, Y_test = train_test_split(data, labels, test_size=.5)\n",
    "ann_input = theano.shared(data)\n",
    "ann_output = theano.shared(labels)\n",
    "\n",
    "init_1 = np.random.randn(data.shape[1], 768)\n",
    "init_2 = np.random.randn(768, 384)\n",
    "init_out = np.random.randn(384)"
   ]
  },
  {
   "cell_type": "code",
   "execution_count": null,
   "metadata": {
    "collapsed": false,
    "deletable": true,
    "editable": true
   },
   "outputs": [
    {
     "name": "stderr",
     "output_type": "stream",
     "text": [
      "/usr/local/lib/python2.7/site-packages/theano/tensor/basic.py:2146: UserWarning: theano.tensor.round() changed its default from `half_away_from_zero` to `half_to_even` to have the same default as NumPy. Use the Theano flag `warn.round=False` to disable this warning.\n",
      "  \"theano.tensor.round() changed its default from\"\n"
     ]
    }
   ],
   "source": [
    "with pm.Model() as neural_network:\n",
    "    # Weights from input to hidden layer\n",
    "    W_in_1 = pm.Normal('w_in_1', 0, sd=1, \n",
    "                             shape=(data.shape[1], 768), \n",
    "                             testval=init_1)\n",
    "    \n",
    "    # Weights from 1st to 2nd layer\n",
    "    W_1_2 = pm.Normal('w_1_2', 0, sd=1, \n",
    "                            shape=(768, 384), \n",
    "                            testval=init_2)\n",
    "    \n",
    "    # Weights from hidden lay2er to output\n",
    "    W_2_out = pm.Normal('w_2_out', 0, sd=1, shape=(384,), testval=init_out)\n",
    "    \n",
    "    # Build neural-network using tanh activation function\n",
    "    act_1 = T.nnet.relu(T.dot(ann_input, W_in_1))\n",
    "    act_2 = T.nnet.relu(T.dot(act_1, W_1_2))\n",
    "    act_out = T.nnet.sigmoid(T.dot(act_2, W_2_out))\n",
    "    \n",
    "    # Binary classification -> Bernoulli likelihood\n",
    "    out = pm.Bernoulli('out', act_out, observed=ann_output)\n"
   ]
  },
  {
   "cell_type": "code",
   "execution_count": null,
   "metadata": {
    "collapsed": false,
    "deletable": true,
    "editable": true
   },
   "outputs": [],
   "source": [
    "from pymc3 import NUTS, sample\n",
    "from scipy import optimize\n",
    "from pymc3 import Slice\n",
    "\n",
    "from pymc3 import find_MAP\n",
    "\n",
    "map_estimate = find_MAP(model=neural_network)\n",
    "\n",
    "print(map_estimate)\n",
    "\n",
    "\"\"\"\n",
    "with neural_network:\n",
    "    # obtain starting values via MAP\n",
    "    start = find_MAP(fmin=optimize.fmin_powell)\n",
    "\n",
    "    # instantiate sampler\n",
    "    step = Slice(vars=[sigma])\n",
    "\n",
    "    # draw 5000 posterior samples\n",
    "    trace = sample(5000, step=step, start=start)\n",
    "\n",
    "\"\"\""
   ]
  },
  {
   "cell_type": "code",
   "execution_count": null,
   "metadata": {
    "collapsed": true,
    "deletable": true,
    "editable": true
   },
   "outputs": [],
   "source": []
  }
 ],
 "metadata": {
  "kernelspec": {
   "display_name": "Python 2",
   "language": "python",
   "name": "python2"
  },
  "language_info": {
   "codemirror_mode": {
    "name": "ipython",
    "version": 2
   },
   "file_extension": ".py",
   "mimetype": "text/x-python",
   "name": "python",
   "nbconvert_exporter": "python",
   "pygments_lexer": "ipython2",
   "version": "2.7.11"
  }
 },
 "nbformat": 4,
 "nbformat_minor": 2
}
